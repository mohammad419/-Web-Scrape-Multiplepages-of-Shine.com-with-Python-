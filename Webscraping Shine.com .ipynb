{
 "cells": [
  {
   "cell_type": "markdown",
   "metadata": {},
   "source": [
    "## Loading the Required Libraries"
   ]
  },
  {
   "cell_type": "code",
   "execution_count": 1,
   "metadata": {},
   "outputs": [],
   "source": [
    "from bs4 import BeautifulSoup as bs\n",
    "import requests\n",
    "import pandas as pd"
   ]
  },
  {
   "cell_type": "markdown",
   "metadata": {},
   "source": [
    "## Putting it all together for scraping the Data from multiple pages \n",
    "\n",
    "## Describing the whole 'ETL' (Extract Transform Load) process \n",
    "\n",
    "### First : Extracting the Data "
   ]
  },
  {
   "cell_type": "code",
   "execution_count": 2,
   "metadata": {},
   "outputs": [],
   "source": [
    "def extract(page):\n",
    "    url = f\"https://www.shine.com/job-search/data-entry-jobs-in-noida-{page}\"\n",
    "    r = requests.get(url)\n",
    "    soup = bs(r.content, 'html.parser')\n",
    "    return soup"
   ]
  },
  {
   "cell_type": "markdown",
   "metadata": {},
   "source": [
    "## Transforming (html to a tabular form) the Data from the multiple pages  "
   ]
  },
  {
   "cell_type": "code",
   "execution_count": 33,
   "metadata": {},
   "outputs": [],
   "source": [
    "def transform(soup):\n",
    "    \n",
    "    divs = soup.find_all('div', class_='w-90 ml-25')\n",
    "    \n",
    "    for item in divs:\n",
    "        \n",
    "        title = item.find('a').get_text().strip()\n",
    "        \n",
    "        title = title.replace('\\xa0','')\n",
    "        \n",
    "        company = item.find('span').get_text().strip()\n",
    "        \n",
    "        exp = item.find('li', class_= \"w-30 mr-10 result-display__profile__years\").get_text().strip()\n",
    "        \n",
    "        \n",
    "        job = {\n",
    "            'Job_Title': title,\n",
    "            'Company' : company,\n",
    "            'Yrs_Exp'   : exp\n",
    "        }\n",
    "        \n",
    "        job_list.append(job)\n",
    "    return\n",
    "\n",
    "job_list=[]"
   ]
  },
  {
   "cell_type": "code",
   "execution_count": 38,
   "metadata": {},
   "outputs": [
    {
     "data": {
      "text/plain": [
       "[{'Job_Title': 'DataEntry Internship',\n",
       "  'Company': 'iHackers',\n",
       "  'Yrs_Exp': '0 to 1 Yr'},\n",
       " {'Job_Title': 'DataEntry Work From Home for PVT. LTD CO. l Secured Payment with Bonus',\n",
       "  'Company': 'MINANSHIKA SOFTECH SOLUTION PRIVATE LIMITED',\n",
       "  'Yrs_Exp': '0 to 3 Yrs'},\n",
       " {'Job_Title': 'Work From Home DataEntry  offered by Govt. Regd. & ISO Certified Company',\n",
       "  'Company': 'MINANSHIKA SOFTECH SOLUTION PRIVATE LIMITED',\n",
       "  'Yrs_Exp': '0 to 4 Yrs'},\n",
       " {'Job_Title': 'Work at Home  (Computer & Manual Based DataEntry)',\n",
       "  'Company': 'MINANSHIKA SOFTECH SOLUTION PRIVATE LIMITED',\n",
       "  'Yrs_Exp': '0 to 4 Yrs'},\n",
       " {'Job_Title': 'DataEntryClerk',\n",
       "  'Company': 'Freelancer Tabriz Alam Hiring For The Muthoot Group',\n",
       "  'Yrs_Exp': '2 to 7 Yrs'}]"
      ]
     },
     "execution_count": 38,
     "metadata": {},
     "output_type": "execute_result"
    }
   ],
   "source": [
    "job_list[0:5]"
   ]
  },
  {
   "cell_type": "markdown",
   "metadata": {},
   "source": [
    "## Exporting or Loading the Data into the Hard Drive\n",
    "\n",
    "## Here the Data is scraped from total 7 pages "
   ]
  },
  {
   "cell_type": "code",
   "execution_count": 36,
   "metadata": {},
   "outputs": [
    {
     "data": {
      "text/html": [
       "<div>\n",
       "<style scoped>\n",
       "    .dataframe tbody tr th:only-of-type {\n",
       "        vertical-align: middle;\n",
       "    }\n",
       "\n",
       "    .dataframe tbody tr th {\n",
       "        vertical-align: top;\n",
       "    }\n",
       "\n",
       "    .dataframe thead th {\n",
       "        text-align: right;\n",
       "    }\n",
       "</style>\n",
       "<table border=\"1\" class=\"dataframe\">\n",
       "  <thead>\n",
       "    <tr style=\"text-align: right;\">\n",
       "      <th></th>\n",
       "      <th>Job_Title</th>\n",
       "      <th>Company</th>\n",
       "      <th>Yrs_Exp</th>\n",
       "    </tr>\n",
       "  </thead>\n",
       "  <tbody>\n",
       "    <tr>\n",
       "      <th>0</th>\n",
       "      <td>DataEntry Internship</td>\n",
       "      <td>iHackers</td>\n",
       "      <td>0 to 1 Yr</td>\n",
       "    </tr>\n",
       "    <tr>\n",
       "      <th>1</th>\n",
       "      <td>DataEntry Work From Home for PVT. LTD CO. l Se...</td>\n",
       "      <td>MINANSHIKA SOFTECH SOLUTION PRIVATE LIMITED</td>\n",
       "      <td>0 to 3 Yrs</td>\n",
       "    </tr>\n",
       "    <tr>\n",
       "      <th>2</th>\n",
       "      <td>Work From Home DataEntry  offered by Govt. Reg...</td>\n",
       "      <td>MINANSHIKA SOFTECH SOLUTION PRIVATE LIMITED</td>\n",
       "      <td>0 to 4 Yrs</td>\n",
       "    </tr>\n",
       "    <tr>\n",
       "      <th>3</th>\n",
       "      <td>Work at Home  (Computer &amp; Manual Based DataEntry)</td>\n",
       "      <td>MINANSHIKA SOFTECH SOLUTION PRIVATE LIMITED</td>\n",
       "      <td>0 to 4 Yrs</td>\n",
       "    </tr>\n",
       "    <tr>\n",
       "      <th>4</th>\n",
       "      <td>DataEntryClerk</td>\n",
       "      <td>Freelancer Tabriz Alam Hiring For The Muthoot ...</td>\n",
       "      <td>2 to 7 Yrs</td>\n",
       "    </tr>\n",
       "  </tbody>\n",
       "</table>\n",
       "</div>"
      ],
      "text/plain": [
       "                                           Job_Title  \\\n",
       "0                               DataEntry Internship   \n",
       "1  DataEntry Work From Home for PVT. LTD CO. l Se...   \n",
       "2  Work From Home DataEntry  offered by Govt. Reg...   \n",
       "3  Work at Home  (Computer & Manual Based DataEntry)   \n",
       "4                                     DataEntryClerk   \n",
       "\n",
       "                                             Company     Yrs_Exp  \n",
       "0                                           iHackers   0 to 1 Yr  \n",
       "1        MINANSHIKA SOFTECH SOLUTION PRIVATE LIMITED  0 to 3 Yrs  \n",
       "2        MINANSHIKA SOFTECH SOLUTION PRIVATE LIMITED  0 to 4 Yrs  \n",
       "3        MINANSHIKA SOFTECH SOLUTION PRIVATE LIMITED  0 to 4 Yrs  \n",
       "4  Freelancer Tabriz Alam Hiring For The Muthoot ...  2 to 7 Yrs  "
      ]
     },
     "execution_count": 36,
     "metadata": {},
     "output_type": "execute_result"
    }
   ],
   "source": [
    "for i in range(1,7):\n",
    "    c = extract(i)\n",
    "    transform(c)\n",
    "\n",
    "df = pd.DataFrame(job_list)\n",
    "\n",
    "df.head()"
   ]
  },
  {
   "cell_type": "code",
   "execution_count": 37,
   "metadata": {},
   "outputs": [
    {
     "data": {
      "text/html": [
       "<div>\n",
       "<style scoped>\n",
       "    .dataframe tbody tr th:only-of-type {\n",
       "        vertical-align: middle;\n",
       "    }\n",
       "\n",
       "    .dataframe tbody tr th {\n",
       "        vertical-align: top;\n",
       "    }\n",
       "\n",
       "    .dataframe thead th {\n",
       "        text-align: right;\n",
       "    }\n",
       "</style>\n",
       "<table border=\"1\" class=\"dataframe\">\n",
       "  <thead>\n",
       "    <tr style=\"text-align: right;\">\n",
       "      <th></th>\n",
       "      <th>Job_Title</th>\n",
       "      <th>Company</th>\n",
       "      <th>Yrs_Exp</th>\n",
       "    </tr>\n",
       "  </thead>\n",
       "  <tbody>\n",
       "    <tr>\n",
       "      <th>0</th>\n",
       "      <td>DataEntry Internship</td>\n",
       "      <td>iHackers</td>\n",
       "      <td>0 to 1 Yr</td>\n",
       "    </tr>\n",
       "    <tr>\n",
       "      <th>1</th>\n",
       "      <td>DataEntry Work From Home for PVT. LTD CO. l Se...</td>\n",
       "      <td>MINANSHIKA SOFTECH SOLUTION PRIVATE LIMITED</td>\n",
       "      <td>0 to 3 Yrs</td>\n",
       "    </tr>\n",
       "    <tr>\n",
       "      <th>2</th>\n",
       "      <td>Work From Home DataEntry  offered by Govt. Reg...</td>\n",
       "      <td>MINANSHIKA SOFTECH SOLUTION PRIVATE LIMITED</td>\n",
       "      <td>0 to 4 Yrs</td>\n",
       "    </tr>\n",
       "    <tr>\n",
       "      <th>3</th>\n",
       "      <td>Work at Home  (Computer &amp; Manual Based DataEntry)</td>\n",
       "      <td>MINANSHIKA SOFTECH SOLUTION PRIVATE LIMITED</td>\n",
       "      <td>0 to 4 Yrs</td>\n",
       "    </tr>\n",
       "    <tr>\n",
       "      <th>4</th>\n",
       "      <td>DataEntryClerk</td>\n",
       "      <td>Freelancer Tabriz Alam Hiring For The Muthoot ...</td>\n",
       "      <td>2 to 7 Yrs</td>\n",
       "    </tr>\n",
       "    <tr>\n",
       "      <th>...</th>\n",
       "      <td>...</td>\n",
       "      <td>...</td>\n",
       "      <td>...</td>\n",
       "    </tr>\n",
       "    <tr>\n",
       "      <th>135</th>\n",
       "      <td>Back Office Coordinator</td>\n",
       "      <td>Siddhartha Consultancy Services</td>\n",
       "      <td>0 to 2 Yrs</td>\n",
       "    </tr>\n",
       "    <tr>\n",
       "      <th>136</th>\n",
       "      <td>Telecallers - Kannada, Telugu, Tamil and Marat...</td>\n",
       "      <td>Indian Petro Group (IPG)</td>\n",
       "      <td>3 to 5 Yrs</td>\n",
       "    </tr>\n",
       "    <tr>\n",
       "      <th>137</th>\n",
       "      <td>Trainee - Lead Verification</td>\n",
       "      <td>VoiceTree Technologies Pvt Ltd.</td>\n",
       "      <td>0 to 1 Yr</td>\n",
       "    </tr>\n",
       "    <tr>\n",
       "      <th>138</th>\n",
       "      <td>BPO/tele callers</td>\n",
       "      <td>placement madad</td>\n",
       "      <td>0 to 2 Yrs</td>\n",
       "    </tr>\n",
       "    <tr>\n",
       "      <th>139</th>\n",
       "      <td>Account Head</td>\n",
       "      <td>placement madad</td>\n",
       "      <td>5 to 9 Yrs</td>\n",
       "    </tr>\n",
       "  </tbody>\n",
       "</table>\n",
       "<p>140 rows × 3 columns</p>\n",
       "</div>"
      ],
      "text/plain": [
       "                                             Job_Title  \\\n",
       "0                                 DataEntry Internship   \n",
       "1    DataEntry Work From Home for PVT. LTD CO. l Se...   \n",
       "2    Work From Home DataEntry  offered by Govt. Reg...   \n",
       "3    Work at Home  (Computer & Manual Based DataEntry)   \n",
       "4                                       DataEntryClerk   \n",
       "..                                                 ...   \n",
       "135                            Back Office Coordinator   \n",
       "136  Telecallers - Kannada, Telugu, Tamil and Marat...   \n",
       "137                        Trainee - Lead Verification   \n",
       "138                                   BPO/tele callers   \n",
       "139                                       Account Head   \n",
       "\n",
       "                                               Company     Yrs_Exp  \n",
       "0                                             iHackers   0 to 1 Yr  \n",
       "1          MINANSHIKA SOFTECH SOLUTION PRIVATE LIMITED  0 to 3 Yrs  \n",
       "2          MINANSHIKA SOFTECH SOLUTION PRIVATE LIMITED  0 to 4 Yrs  \n",
       "3          MINANSHIKA SOFTECH SOLUTION PRIVATE LIMITED  0 to 4 Yrs  \n",
       "4    Freelancer Tabriz Alam Hiring For The Muthoot ...  2 to 7 Yrs  \n",
       "..                                                 ...         ...  \n",
       "135                    Siddhartha Consultancy Services  0 to 2 Yrs  \n",
       "136                           Indian Petro Group (IPG)  3 to 5 Yrs  \n",
       "137                    VoiceTree Technologies Pvt Ltd.   0 to 1 Yr  \n",
       "138                                    placement madad  0 to 2 Yrs  \n",
       "139                                    placement madad  5 to 9 Yrs  \n",
       "\n",
       "[140 rows x 3 columns]"
      ]
     },
     "execution_count": 37,
     "metadata": {},
     "output_type": "execute_result"
    }
   ],
   "source": [
    "df"
   ]
  },
  {
   "cell_type": "code",
   "execution_count": 39,
   "metadata": {},
   "outputs": [],
   "source": [
    "df.to_csv('Shine_job.csv', index=False)"
   ]
  }
 ],
 "metadata": {
  "kernelspec": {
   "display_name": "Python 3",
   "language": "python",
   "name": "python3"
  },
  "language_info": {
   "codemirror_mode": {
    "name": "ipython",
    "version": 3
   },
   "file_extension": ".py",
   "mimetype": "text/x-python",
   "name": "python",
   "nbconvert_exporter": "python",
   "pygments_lexer": "ipython3",
   "version": "3.7.6"
  }
 },
 "nbformat": 4,
 "nbformat_minor": 4
}
